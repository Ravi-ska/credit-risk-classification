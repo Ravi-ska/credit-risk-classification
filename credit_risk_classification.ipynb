{
 "cells": [
  {
   "cell_type": "code",
   "execution_count": null,
   "id": "b25ed5df",
   "metadata": {},
   "outputs": [],
   "source": [
    "import numpy as np\n",
    "import pandas as pd\n",
    "from pathlib import Path\n",
    "from sklearn.metrics import balanced_accuracy_score, confusion_matrix, classification_report"
   ]
  },
  {
   "cell_type": "code",
   "execution_count": null,
   "id": "536b9c38",
   "metadata": {},
   "outputs": [],
   "source": [
    "lending_df = pd.read_csv(Path('Resources/lending_data.csv'))\n",
    "\n",
    "lending_df.head()"
   ]
  },
  {
   "cell_type": "code",
   "execution_count": null,
   "id": "ccce6d83",
   "metadata": {},
   "outputs": [],
   "source": [
    "y = lending_df['loan_status']\n",
    "\n",
    "X = lending_df.drop(columns=['loan_status'])"
   ]
  },
  {
   "cell_type": "code",
   "execution_count": null,
   "id": "9cd66a35",
   "metadata": {},
   "outputs": [],
   "source": [
    "y.head()"
   ]
  },
  {
   "cell_type": "code",
   "execution_count": null,
   "id": "ec17dfc7",
   "metadata": {},
   "outputs": [],
   "source": [
    "X.head()"
   ]
  },
  {
   "cell_type": "code",
   "execution_count": null,
   "id": "0602ad51",
   "metadata": {},
   "outputs": [],
   "source": [
    "y.value_counts()"
   ]
  },
  {
   "cell_type": "code",
   "execution_count": null,
   "id": "54463435",
   "metadata": {},
   "outputs": [],
   "source": [
    "from sklearn.model_selection import train_test_split\n",
    "\n",
    "X_train, X_test, y_train, y_test = train_test_split(X, y, random_state=1)"
   ]
  },
  {
   "cell_type": "code",
   "execution_count": null,
   "id": "c7864bd8",
   "metadata": {},
   "outputs": [],
   "source": [
    "from sklearn.linear_model import LogisticRegression\n",
    "\n",
    "logistic_regression_model = LogisticRegression(solver='lbfgs', random_state=1)\n",
    "\n",
    "lr_model = logistic_regression_model.fit(X_train, y_train)"
   ]
  },
  {
   "cell_type": "code",
   "execution_count": null,
   "id": "3a9de40f",
   "metadata": {},
   "outputs": [],
   "source": [
    "test_predictions = logistic_regression_model.predict(X_test)\n",
    "pd.DataFrame({'Predictions': test_predictions, 'Actual': y_test})"
   ]
  },
  {
   "cell_type": "code",
   "execution_count": null,
   "id": "1d908287",
   "metadata": {},
   "outputs": [],
   "source": [
    "print(f\"The balanced accuracy score of the model is: {balanced_accuracy_score(y_test, test_predictions)}\")"
   ]
  },
  {
   "cell_type": "code",
   "execution_count": null,
   "id": "7d17f19d",
   "metadata": {},
   "outputs": [],
   "source": [
    "cf_test_matrix = confusion_matrix(y_test, test_predictions)\n",
    "cf_test_matrix                             "
   ]
  },
  {
   "cell_type": "code",
   "execution_count": null,
   "id": "cc8be2d5",
   "metadata": {},
   "outputs": [],
   "source": [
    "testing_report = classification_report(y_test, test_predictions)\n",
    "print(testing_report)"
   ]
  },
  {
   "cell_type": "code",
   "execution_count": null,
   "id": "56ebc48b",
   "metadata": {},
   "outputs": [],
   "source": [
    "from imblearn.over_sampling import RandomOverSampler\n",
    "\n",
    "ros = RandomOverSampler(random_state=1)\n",
    "\n",
    "X_ros_model, y_ros_model = ros.fit_resample(X,y)"
   ]
  },
  {
   "cell_type": "code",
   "execution_count": null,
   "id": "4316b1a5",
   "metadata": {},
   "outputs": [],
   "source": [
    "from collections import Counter\n",
    "\n",
    "print(Counter(X_ros_model))\n",
    "print(Counter(y_ros_model))\n",
    "print(f\"The y_ros_model resampled data is equivalently split\")"
   ]
  },
  {
   "cell_type": "code",
   "execution_count": null,
   "id": "a1f903e6",
   "metadata": {},
   "outputs": [],
   "source": [
    "classifier = LogisticRegression(solver='lbfgs', random_state=1)\n",
    "\n",
    "classifier.fit(X_ros_model, y_ros_model)\n",
    "\n",
    "predictions = classifier.predict(X_ros_model)\n",
    "pd.DataFrame({'Predictions': predictions, 'Actual': y_ros_model})"
   ]
  },
  {
   "cell_type": "code",
   "execution_count": null,
   "id": "dac891fa",
   "metadata": {},
   "outputs": [],
   "source": [
    "classifier = LogisticRegression(solver='lbfgs', random_state=1)\n",
    "\n",
    "classifier.fit(X_train, y_train)\n",
    "\n",
    "predictions = classifier.predict(X_test)\n",
    "pd.DataFrame({'Predictions': predictions, 'Actual': y_test})"
   ]
  },
  {
   "cell_type": "code",
   "execution_count": null,
   "id": "032774e2",
   "metadata": {},
   "outputs": [],
   "source": [
    "print(f\"The balanced accuracy score of the model is: {balanced_accuracy_score(y_ros_model, predictions)}\")"
   ]
  },
  {
   "cell_type": "code",
   "execution_count": null,
   "id": "76f4afb5",
   "metadata": {},
   "outputs": [],
   "source": [
    "cf_matrix = confusion_matrix(y_ros_model, predictions)\n",
    "cf_matrix  "
   ]
  },
  {
   "cell_type": "code",
   "execution_count": null,
   "id": "8e456ad7",
   "metadata": {},
   "outputs": [],
   "source": [
    "report = classification_report(y_ros_model, predictions)\n",
    "print(report)"
   ]
  }
 ],
 "metadata": {
  "kernelspec": {
   "display_name": "Python 3 (ipykernel)",
   "language": "python",
   "name": "python3"
  },
  "language_info": {
   "codemirror_mode": {
    "name": "ipython",
    "version": 3
   },
   "file_extension": ".py",
   "mimetype": "text/x-python",
   "name": "python",
   "nbconvert_exporter": "python",
   "pygments_lexer": "ipython3",
   "version": "3.10.9"
  }
 },
 "nbformat": 4,
 "nbformat_minor": 5
}
